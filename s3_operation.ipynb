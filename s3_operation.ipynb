{
 "cells": [
  {
   "cell_type": "code",
   "execution_count": 1,
   "id": "4ce831fb",
   "metadata": {},
   "outputs": [],
   "source": [
    "import s3_util as util"
   ]
  },
  {
   "cell_type": "code",
   "execution_count": 2,
   "id": "147acddf",
   "metadata": {},
   "outputs": [],
   "source": [
    "src=\"s3://mufg-data-sandbox-us-east-1-sagemaker/awsLogs/\"\n",
    "dest=\"s3://mufg-data-sandbox-us-east-1-sagemaker/AROAW5VYQHYKT53GIKCDT:mthummati/AWSLogs\""
   ]
  },
  {
   "cell_type": "markdown",
   "id": "f24cb0b9",
   "metadata": {},
   "source": [
    "### List files in s3"
   ]
  },
  {
   "cell_type": "code",
   "execution_count": 3,
   "id": "d9895fda",
   "metadata": {
    "scrolled": true
   },
   "outputs": [
    {
     "data": {
      "text/plain": [
       "['sagemaker/bootstrap/scripts/add_mand_tags.sh']"
      ]
     },
     "execution_count": 3,
     "metadata": {},
     "output_type": "execute_result"
    }
   ],
   "source": [
    "util.aws_s3_ls(\"s3://mufg-data-sandbox-us-east-1-sagemaker/sagemaker/bootstrap/scripts/add_mand_tags.sh\")"
   ]
  },
  {
   "cell_type": "code",
   "execution_count": 4,
   "id": "0fd58874",
   "metadata": {
    "scrolled": true
   },
   "outputs": [
    {
     "data": {
      "text/plain": [
       "['awsLogs/Macie/us-west-2/348da50ddca9309ae4214ccdff2fa5b3/476054568469/01b276ae-c222-37c5-bfeb-18d88ee71008.jsonl.gz',\n",
       " 'awsLogs/Macie/us-west-2/348da50ddca9309ae4214ccdff2fa5b3/476054568469/8f7774cb-1059-3831-a14f-7993126b0a4e.jsonl.gz',\n",
       " 'awsLogs/Macie/us-west-2/649ba993d1ebb03a5cc3da2e2f2b516d/476054568469/7c2379e2-3e6e-34e5-a296-d55ca84e193f.jsonl.gz',\n",
       " 'awsLogs/Macie/us-west-2/6e32127d5763fdff30e17627a1746551/476054568469/0ac29785-c308-38c0-b2b7-9bb2338bdcb1.jsonl.gz',\n",
       " 'awsLogs/Macie/us-west-2/6e32127d5763fdff30e17627a1746551/476054568469/6c181bb1-096a-34cd-99f3-36dfc90cc7ec.jsonl.gz',\n",
       " 'awsLogs/Macie/us-west-2/96f0d21cb4f77b3e28f6e370d0411e98/476054568469/80fa7a49-0d2b-33a0-9d33-50b18a73f1e3.jsonl.gz',\n",
       " 'awsLogs/Macie/us-west-2/96f0d21cb4f77b3e28f6e370d0411e98/476054568469/ac5d8475-8b09-307a-9e72-bbeb8622922b.jsonl.gz',\n",
       " 'awsLogs/Macie/us-west-2/96f0d21cb4f77b3e28f6e370d0411e98/476054568469/d9eff6c1-eacc-3c6e-bfe7-ea0e7234e3be.jsonl.gz',\n",
       " 'awsLogs/Macie/us-west-2/96f0d21cb4f77b3e28f6e370d0411e98/476054568469/f4eb6495-d377-3ca9-b5f6-3c85ef9823b7.jsonl.gz',\n",
       " 'awsLogs/Macie/us-west-2/ad69687a856ed92b6d7f08a2630cf7df/476054568469/33e71af4-496e-3a6d-8f37-3f379e388bcb.jsonl.gz',\n",
       " 'awsLogs/Macie/us-west-2/ad69687a856ed92b6d7f08a2630cf7df/476054568469/ef89941b-6910-3575-ad21-891514b7a327.jsonl.gz',\n",
       " 'awsLogs/Macie/us-west-2/ad69687a856ed92b6d7f08a2630cf7df/476054568469/f85e8081-addf-387a-af8d-cd087c89b1fa.jsonl.gz']"
      ]
     },
     "execution_count": 4,
     "metadata": {},
     "output_type": "execute_result"
    }
   ],
   "source": [
    "util.aws_s3_ls(src)"
   ]
  },
  {
   "cell_type": "markdown",
   "id": "30cf520a",
   "metadata": {},
   "source": [
    "### copy files from s3 to s3"
   ]
  },
  {
   "cell_type": "code",
   "execution_count": 5,
   "id": "429772a9",
   "metadata": {
    "scrolled": true
   },
   "outputs": [
    {
     "name": "stdout",
     "output_type": "stream",
     "text": [
      "copy file s3://mufg-data-sandbox-us-east-1-sagemaker/awsLogs/Macie/us-west-2/348da50ddca9309ae4214ccdff2fa5b3/476054568469/01b276ae-c222-37c5-bfeb-18d88ee71008.jsonl.gz to s3://mufg-data-sandbox-us-east-1-sagemaker/AROAW5VYQHYKT53GIKCDT:mthummati/AWSLogs\n",
      "copy file s3://mufg-data-sandbox-us-east-1-sagemaker/awsLogs/Macie/us-west-2/348da50ddca9309ae4214ccdff2fa5b3/476054568469/8f7774cb-1059-3831-a14f-7993126b0a4e.jsonl.gz to s3://mufg-data-sandbox-us-east-1-sagemaker/AROAW5VYQHYKT53GIKCDT:mthummati/AWSLogs\n",
      "copy file s3://mufg-data-sandbox-us-east-1-sagemaker/awsLogs/Macie/us-west-2/649ba993d1ebb03a5cc3da2e2f2b516d/476054568469/7c2379e2-3e6e-34e5-a296-d55ca84e193f.jsonl.gz to s3://mufg-data-sandbox-us-east-1-sagemaker/AROAW5VYQHYKT53GIKCDT:mthummati/AWSLogs\n",
      "copy file s3://mufg-data-sandbox-us-east-1-sagemaker/awsLogs/Macie/us-west-2/6e32127d5763fdff30e17627a1746551/476054568469/0ac29785-c308-38c0-b2b7-9bb2338bdcb1.jsonl.gz to s3://mufg-data-sandbox-us-east-1-sagemaker/AROAW5VYQHYKT53GIKCDT:mthummati/AWSLogs\n",
      "copy file s3://mufg-data-sandbox-us-east-1-sagemaker/awsLogs/Macie/us-west-2/6e32127d5763fdff30e17627a1746551/476054568469/6c181bb1-096a-34cd-99f3-36dfc90cc7ec.jsonl.gz to s3://mufg-data-sandbox-us-east-1-sagemaker/AROAW5VYQHYKT53GIKCDT:mthummati/AWSLogs\n",
      "copy file s3://mufg-data-sandbox-us-east-1-sagemaker/awsLogs/Macie/us-west-2/96f0d21cb4f77b3e28f6e370d0411e98/476054568469/80fa7a49-0d2b-33a0-9d33-50b18a73f1e3.jsonl.gz to s3://mufg-data-sandbox-us-east-1-sagemaker/AROAW5VYQHYKT53GIKCDT:mthummati/AWSLogs\n",
      "copy file s3://mufg-data-sandbox-us-east-1-sagemaker/awsLogs/Macie/us-west-2/96f0d21cb4f77b3e28f6e370d0411e98/476054568469/ac5d8475-8b09-307a-9e72-bbeb8622922b.jsonl.gz to s3://mufg-data-sandbox-us-east-1-sagemaker/AROAW5VYQHYKT53GIKCDT:mthummati/AWSLogs\n",
      "copy file s3://mufg-data-sandbox-us-east-1-sagemaker/awsLogs/Macie/us-west-2/96f0d21cb4f77b3e28f6e370d0411e98/476054568469/d9eff6c1-eacc-3c6e-bfe7-ea0e7234e3be.jsonl.gz to s3://mufg-data-sandbox-us-east-1-sagemaker/AROAW5VYQHYKT53GIKCDT:mthummati/AWSLogs\n",
      "copy file s3://mufg-data-sandbox-us-east-1-sagemaker/awsLogs/Macie/us-west-2/96f0d21cb4f77b3e28f6e370d0411e98/476054568469/f4eb6495-d377-3ca9-b5f6-3c85ef9823b7.jsonl.gz to s3://mufg-data-sandbox-us-east-1-sagemaker/AROAW5VYQHYKT53GIKCDT:mthummati/AWSLogs\n",
      "copy file s3://mufg-data-sandbox-us-east-1-sagemaker/awsLogs/Macie/us-west-2/ad69687a856ed92b6d7f08a2630cf7df/476054568469/33e71af4-496e-3a6d-8f37-3f379e388bcb.jsonl.gz to s3://mufg-data-sandbox-us-east-1-sagemaker/AROAW5VYQHYKT53GIKCDT:mthummati/AWSLogs\n",
      "copy file s3://mufg-data-sandbox-us-east-1-sagemaker/awsLogs/Macie/us-west-2/ad69687a856ed92b6d7f08a2630cf7df/476054568469/ef89941b-6910-3575-ad21-891514b7a327.jsonl.gz to s3://mufg-data-sandbox-us-east-1-sagemaker/AROAW5VYQHYKT53GIKCDT:mthummati/AWSLogs\n",
      "copy file s3://mufg-data-sandbox-us-east-1-sagemaker/awsLogs/Macie/us-west-2/ad69687a856ed92b6d7f08a2630cf7df/476054568469/f85e8081-addf-387a-af8d-cd087c89b1fa.jsonl.gz to s3://mufg-data-sandbox-us-east-1-sagemaker/AROAW5VYQHYKT53GIKCDT:mthummati/AWSLogs\n"
     ]
    },
    {
     "data": {
      "text/plain": [
       "True"
      ]
     },
     "execution_count": 5,
     "metadata": {},
     "output_type": "execute_result"
    }
   ],
   "source": [
    "util.aws_s3_cp(src, dest)"
   ]
  },
  {
   "cell_type": "code",
   "execution_count": 6,
   "id": "d612e0a8",
   "metadata": {},
   "outputs": [
    {
     "data": {
      "text/plain": [
       "['AROAW5VYQHYKT53GIKCDT:mthummati/AWSLogs',\n",
       " 'AROAW5VYQHYKT53GIKCDT:mthummati/AWSLogs/Macie/us-west-2/348da50ddca9309ae4214ccdff2fa5b3/476054568469/01b276ae-c222-37c5-bfeb-18d88ee71008.jsonl.gz',\n",
       " 'AROAW5VYQHYKT53GIKCDT:mthummati/AWSLogs/Macie/us-west-2/348da50ddca9309ae4214ccdff2fa5b3/476054568469/8f7774cb-1059-3831-a14f-7993126b0a4e.jsonl.gz',\n",
       " 'AROAW5VYQHYKT53GIKCDT:mthummati/AWSLogs/Macie/us-west-2/649ba993d1ebb03a5cc3da2e2f2b516d/476054568469/7c2379e2-3e6e-34e5-a296-d55ca84e193f.jsonl.gz',\n",
       " 'AROAW5VYQHYKT53GIKCDT:mthummati/AWSLogs/Macie/us-west-2/6e32127d5763fdff30e17627a1746551/476054568469/0ac29785-c308-38c0-b2b7-9bb2338bdcb1.jsonl.gz',\n",
       " 'AROAW5VYQHYKT53GIKCDT:mthummati/AWSLogs/Macie/us-west-2/6e32127d5763fdff30e17627a1746551/476054568469/6c181bb1-096a-34cd-99f3-36dfc90cc7ec.jsonl.gz',\n",
       " 'AROAW5VYQHYKT53GIKCDT:mthummati/AWSLogs/Macie/us-west-2/96f0d21cb4f77b3e28f6e370d0411e98/476054568469/80fa7a49-0d2b-33a0-9d33-50b18a73f1e3.jsonl.gz',\n",
       " 'AROAW5VYQHYKT53GIKCDT:mthummati/AWSLogs/Macie/us-west-2/96f0d21cb4f77b3e28f6e370d0411e98/476054568469/ac5d8475-8b09-307a-9e72-bbeb8622922b.jsonl.gz',\n",
       " 'AROAW5VYQHYKT53GIKCDT:mthummati/AWSLogs/Macie/us-west-2/96f0d21cb4f77b3e28f6e370d0411e98/476054568469/d9eff6c1-eacc-3c6e-bfe7-ea0e7234e3be.jsonl.gz',\n",
       " 'AROAW5VYQHYKT53GIKCDT:mthummati/AWSLogs/Macie/us-west-2/96f0d21cb4f77b3e28f6e370d0411e98/476054568469/f4eb6495-d377-3ca9-b5f6-3c85ef9823b7.jsonl.gz',\n",
       " 'AROAW5VYQHYKT53GIKCDT:mthummati/AWSLogs/Macie/us-west-2/ad69687a856ed92b6d7f08a2630cf7df/476054568469/33e71af4-496e-3a6d-8f37-3f379e388bcb.jsonl.gz',\n",
       " 'AROAW5VYQHYKT53GIKCDT:mthummati/AWSLogs/Macie/us-west-2/ad69687a856ed92b6d7f08a2630cf7df/476054568469/ef89941b-6910-3575-ad21-891514b7a327.jsonl.gz',\n",
       " 'AROAW5VYQHYKT53GIKCDT:mthummati/AWSLogs/Macie/us-west-2/ad69687a856ed92b6d7f08a2630cf7df/476054568469/f85e8081-addf-387a-af8d-cd087c89b1fa.jsonl.gz']"
      ]
     },
     "execution_count": 6,
     "metadata": {},
     "output_type": "execute_result"
    }
   ],
   "source": [
    "util.aws_s3_ls(dest)"
   ]
  },
  {
   "cell_type": "markdown",
   "id": "1e9e043a",
   "metadata": {},
   "source": [
    "### delete file/dir from s3"
   ]
  },
  {
   "cell_type": "code",
   "execution_count": 62,
   "id": "49e8784a",
   "metadata": {},
   "outputs": [
    {
     "data": {
      "text/plain": [
       "True"
      ]
     },
     "execution_count": 62,
     "metadata": {},
     "output_type": "execute_result"
    }
   ],
   "source": [
    "util.aws_s3_rm(\"s3://mufg-data-sandbox-us-east-1-sagemaker/AROAW5VYQHYKT53GIKCDT:mthummati/AWSLogs/Macie/us-west-2/ad69687a856ed92b6d7f08a2630cf7df/476054568469/f85e8081-addf-387a-af8d-cd087c89b1fa.jsonl.gz\")"
   ]
  },
  {
   "cell_type": "code",
   "execution_count": 63,
   "id": "b4b53b45",
   "metadata": {},
   "outputs": [
    {
     "data": {
      "text/plain": [
       "True"
      ]
     },
     "execution_count": 63,
     "metadata": {},
     "output_type": "execute_result"
    }
   ],
   "source": [
    "util.aws_s3_rm(dest)"
   ]
  },
  {
   "cell_type": "code",
   "execution_count": 64,
   "id": "38ae7141",
   "metadata": {},
   "outputs": [
    {
     "name": "stdout",
     "output_type": "stream",
     "text": [
      "Requested s3 object doesn't exist.\n"
     ]
    },
    {
     "data": {
      "text/plain": [
       "[]"
      ]
     },
     "execution_count": 64,
     "metadata": {},
     "output_type": "execute_result"
    }
   ],
   "source": [
    "util.aws_s3_ls(dest)"
   ]
  },
  {
   "cell_type": "markdown",
   "id": "e30b04d6",
   "metadata": {},
   "source": [
    "### download file/dir to local"
   ]
  },
  {
   "cell_type": "code",
   "execution_count": 65,
   "id": "8b96084a",
   "metadata": {
    "scrolled": true
   },
   "outputs": [
    {
     "name": "stdout",
     "output_type": "stream",
     "text": [
      "copying file s3://mufg-data-sandbox-us-east-1-sagemaker/sagemaker/bootstrap/scripts/add_mand_tags.sh to test.txt\n"
     ]
    },
    {
     "data": {
      "text/plain": [
       "True"
      ]
     },
     "execution_count": 65,
     "metadata": {},
     "output_type": "execute_result"
    }
   ],
   "source": [
    "util.aws_s3_cp(\"s3://mufg-data-sandbox-us-east-1-sagemaker/sagemaker/bootstrap/scripts/add_mand_tags.sh\", \"test.txt\")"
   ]
  },
  {
   "cell_type": "code",
   "execution_count": 15,
   "id": "b60b4365",
   "metadata": {},
   "outputs": [
    {
     "name": "stdout",
     "output_type": "stream",
     "text": [
      "copying file s3://mufg-data-sandbox-us-east-1-sagemaker/sagemaker/bootstrap/scripts/add_mand_tags.sh to /home/ec2-user/SageMaker/add_mand_tags.sh\n"
     ]
    },
    {
     "data": {
      "text/plain": [
       "True"
      ]
     },
     "execution_count": 15,
     "metadata": {},
     "output_type": "execute_result"
    }
   ],
   "source": [
    "util.aws_s3_cp(\"s3://mufg-data-sandbox-us-east-1-sagemaker/sagemaker/bootstrap/scripts/add_mand_tags.sh\", \"/home/ec2-user/SageMaker/\")"
   ]
  },
  {
   "cell_type": "code",
   "execution_count": 17,
   "id": "da75a1f6",
   "metadata": {},
   "outputs": [
    {
     "name": "stdout",
     "output_type": "stream",
     "text": [
      "copying file s3://mufg-data-sandbox-us-east-1-sagemaker/sagemaker/bootstrap/scripts/add_mand_tags.sh to /home/ec2-user/SageMaker/scripts/add_mand_tags.sh\n",
      "copying file s3://mufg-data-sandbox-us-east-1-sagemaker/sagemaker/bootstrap/scripts/add_pip_repo.sh to /home/ec2-user/SageMaker/scripts/add_pip_repo.sh\n",
      "copying file s3://mufg-data-sandbox-us-east-1-sagemaker/sagemaker/bootstrap/scripts/bootstrap_sagemaker.sh to /home/ec2-user/SageMaker/scripts/bootstrap_sagemaker.sh\n",
      "copying file s3://mufg-data-sandbox-us-east-1-sagemaker/sagemaker/bootstrap/scripts/configure_git.sh to /home/ec2-user/SageMaker/scripts/configure_git.sh\n"
     ]
    },
    {
     "data": {
      "text/plain": [
       "True"
      ]
     },
     "execution_count": 17,
     "metadata": {},
     "output_type": "execute_result"
    }
   ],
   "source": [
    "util.aws_s3_cp(\"s3://mufg-data-sandbox-us-east-1-sagemaker/sagemaker/bootstrap/scripts/\", \"/home/ec2-user/SageMaker/scripts/\")"
   ]
  },
  {
   "cell_type": "markdown",
   "id": "0b3678ff",
   "metadata": {},
   "source": [
    "### upload file to s3"
   ]
  },
  {
   "cell_type": "code",
   "execution_count": 18,
   "id": "5db88093",
   "metadata": {},
   "outputs": [
    {
     "name": "stdout",
     "output_type": "stream",
     "text": [
      "copying file /home/ec2-user/SageMaker/scripts/add_pip_repo.sh to s3://mufg-data-sandbox-us-east-1-sagemaker/sagemaker/bootstrap/scripts/add_pip_repo.sh\n",
      "copying file /home/ec2-user/SageMaker/scripts/configure_git.sh to s3://mufg-data-sandbox-us-east-1-sagemaker/sagemaker/bootstrap/scripts/configure_git.sh\n",
      "copying file /home/ec2-user/SageMaker/scripts/bootstrap_sagemaker.sh to s3://mufg-data-sandbox-us-east-1-sagemaker/sagemaker/bootstrap/scripts/bootstrap_sagemaker.sh\n",
      "copying file /home/ec2-user/SageMaker/scripts/add_mand_tags.sh to s3://mufg-data-sandbox-us-east-1-sagemaker/sagemaker/bootstrap/scripts/add_mand_tags.sh\n"
     ]
    },
    {
     "data": {
      "text/plain": [
       "True"
      ]
     },
     "execution_count": 18,
     "metadata": {},
     "output_type": "execute_result"
    }
   ],
   "source": [
    "util.aws_s3_cp(\"/home/ec2-user/SageMaker/scripts/\", \"s3://mufg-data-sandbox-us-east-1-sagemaker/sagemaker/bootstrap/scripts/\")"
   ]
  },
  {
   "cell_type": "code",
   "execution_count": 19,
   "id": "4081bac6",
   "metadata": {},
   "outputs": [
    {
     "name": "stdout",
     "output_type": "stream",
     "text": [
      "copying file /home/ec2-user/SageMaker/scripts/add_mand_tags.sh to s3://mufg-data-sandbox-us-east-1-sagemaker/sagemaker/bootstrap/\n"
     ]
    },
    {
     "data": {
      "text/plain": [
       "True"
      ]
     },
     "execution_count": 19,
     "metadata": {},
     "output_type": "execute_result"
    }
   ],
   "source": [
    "util.aws_s3_cp(\"/home/ec2-user/SageMaker/scripts/add_mand_tags.sh\", \"s3://mufg-data-sandbox-us-east-1-sagemaker/sagemaker/bootstrap/\")"
   ]
  },
  {
   "cell_type": "code",
   "execution_count": 20,
   "id": "3eea4ca1",
   "metadata": {},
   "outputs": [
    {
     "name": "stdout",
     "output_type": "stream",
     "text": [
      "copying file /home/ec2-user/SageMaker/scripts/add_mand_tags.sh to s3://mufg-data-sandbox-us-east-1-sagemaker/sagemaker/bootstrap/test.file\n"
     ]
    },
    {
     "data": {
      "text/plain": [
       "True"
      ]
     },
     "execution_count": 20,
     "metadata": {},
     "output_type": "execute_result"
    }
   ],
   "source": [
    "util.aws_s3_cp(\"/home/ec2-user/SageMaker/scripts/add_mand_tags.sh\", \"s3://mufg-data-sandbox-us-east-1-sagemaker/sagemaker/bootstrap/test.file\")"
   ]
  },
  {
   "cell_type": "markdown",
   "id": "bbdfd43d",
   "metadata": {},
   "source": [
    "### Move files from s3 to s3"
   ]
  },
  {
   "cell_type": "code",
   "execution_count": 22,
   "id": "71060afe",
   "metadata": {
    "scrolled": true
   },
   "outputs": [
    {
     "name": "stdout",
     "output_type": "stream",
     "text": [
      "moving file s3://mufg-data-sandbox-us-east-1-sagemaker/AWSLogs/Macie/us-west-2/1ea1facfc4eb80aefc8d42dc563c4248/476054568469/3b64f540-69b6-3b76-9dd6-9943c19d7f67.jsonl.gz to s3://mufg-data-sandbox-us-east-1-sagemaker/awsLogs/Macie/us-west-2/1ea1facfc4eb80aefc8d42dc563c4248/476054568469/3b64f540-69b6-3b76-9dd6-9943c19d7f67.jsonl.gz\n",
      "moving file s3://mufg-data-sandbox-us-east-1-sagemaker/AWSLogs/Macie/us-west-2/348da50ddca9309ae4214ccdff2fa5b3/476054568469/01b276ae-c222-37c5-bfeb-18d88ee71008.jsonl.gz to s3://mufg-data-sandbox-us-east-1-sagemaker/awsLogs/Macie/us-west-2/348da50ddca9309ae4214ccdff2fa5b3/476054568469/01b276ae-c222-37c5-bfeb-18d88ee71008.jsonl.gz\n",
      "moving file s3://mufg-data-sandbox-us-east-1-sagemaker/AWSLogs/Macie/us-west-2/348da50ddca9309ae4214ccdff2fa5b3/476054568469/8f7774cb-1059-3831-a14f-7993126b0a4e.jsonl.gz to s3://mufg-data-sandbox-us-east-1-sagemaker/awsLogs/Macie/us-west-2/348da50ddca9309ae4214ccdff2fa5b3/476054568469/8f7774cb-1059-3831-a14f-7993126b0a4e.jsonl.gz\n",
      "moving file s3://mufg-data-sandbox-us-east-1-sagemaker/AWSLogs/Macie/us-west-2/649ba993d1ebb03a5cc3da2e2f2b516d/476054568469/7c2379e2-3e6e-34e5-a296-d55ca84e193f.jsonl.gz to s3://mufg-data-sandbox-us-east-1-sagemaker/awsLogs/Macie/us-west-2/649ba993d1ebb03a5cc3da2e2f2b516d/476054568469/7c2379e2-3e6e-34e5-a296-d55ca84e193f.jsonl.gz\n",
      "moving file s3://mufg-data-sandbox-us-east-1-sagemaker/AWSLogs/Macie/us-west-2/6e32127d5763fdff30e17627a1746551/476054568469/0ac29785-c308-38c0-b2b7-9bb2338bdcb1.jsonl.gz to s3://mufg-data-sandbox-us-east-1-sagemaker/awsLogs/Macie/us-west-2/6e32127d5763fdff30e17627a1746551/476054568469/0ac29785-c308-38c0-b2b7-9bb2338bdcb1.jsonl.gz\n",
      "moving file s3://mufg-data-sandbox-us-east-1-sagemaker/AWSLogs/Macie/us-west-2/6e32127d5763fdff30e17627a1746551/476054568469/6c181bb1-096a-34cd-99f3-36dfc90cc7ec.jsonl.gz to s3://mufg-data-sandbox-us-east-1-sagemaker/awsLogs/Macie/us-west-2/6e32127d5763fdff30e17627a1746551/476054568469/6c181bb1-096a-34cd-99f3-36dfc90cc7ec.jsonl.gz\n",
      "moving file s3://mufg-data-sandbox-us-east-1-sagemaker/AWSLogs/Macie/us-west-2/96f0d21cb4f77b3e28f6e370d0411e98/476054568469/80fa7a49-0d2b-33a0-9d33-50b18a73f1e3.jsonl.gz to s3://mufg-data-sandbox-us-east-1-sagemaker/awsLogs/Macie/us-west-2/96f0d21cb4f77b3e28f6e370d0411e98/476054568469/80fa7a49-0d2b-33a0-9d33-50b18a73f1e3.jsonl.gz\n",
      "moving file s3://mufg-data-sandbox-us-east-1-sagemaker/AWSLogs/Macie/us-west-2/96f0d21cb4f77b3e28f6e370d0411e98/476054568469/ac5d8475-8b09-307a-9e72-bbeb8622922b.jsonl.gz to s3://mufg-data-sandbox-us-east-1-sagemaker/awsLogs/Macie/us-west-2/96f0d21cb4f77b3e28f6e370d0411e98/476054568469/ac5d8475-8b09-307a-9e72-bbeb8622922b.jsonl.gz\n",
      "moving file s3://mufg-data-sandbox-us-east-1-sagemaker/AWSLogs/Macie/us-west-2/96f0d21cb4f77b3e28f6e370d0411e98/476054568469/d9eff6c1-eacc-3c6e-bfe7-ea0e7234e3be.jsonl.gz to s3://mufg-data-sandbox-us-east-1-sagemaker/awsLogs/Macie/us-west-2/96f0d21cb4f77b3e28f6e370d0411e98/476054568469/d9eff6c1-eacc-3c6e-bfe7-ea0e7234e3be.jsonl.gz\n",
      "moving file s3://mufg-data-sandbox-us-east-1-sagemaker/AWSLogs/Macie/us-west-2/96f0d21cb4f77b3e28f6e370d0411e98/476054568469/f4eb6495-d377-3ca9-b5f6-3c85ef9823b7.jsonl.gz to s3://mufg-data-sandbox-us-east-1-sagemaker/awsLogs/Macie/us-west-2/96f0d21cb4f77b3e28f6e370d0411e98/476054568469/f4eb6495-d377-3ca9-b5f6-3c85ef9823b7.jsonl.gz\n",
      "moving file s3://mufg-data-sandbox-us-east-1-sagemaker/AWSLogs/Macie/us-west-2/ad69687a856ed92b6d7f08a2630cf7df/476054568469/33e71af4-496e-3a6d-8f37-3f379e388bcb.jsonl.gz to s3://mufg-data-sandbox-us-east-1-sagemaker/awsLogs/Macie/us-west-2/ad69687a856ed92b6d7f08a2630cf7df/476054568469/33e71af4-496e-3a6d-8f37-3f379e388bcb.jsonl.gz\n",
      "moving file s3://mufg-data-sandbox-us-east-1-sagemaker/AWSLogs/Macie/us-west-2/ad69687a856ed92b6d7f08a2630cf7df/476054568469/ef89941b-6910-3575-ad21-891514b7a327.jsonl.gz to s3://mufg-data-sandbox-us-east-1-sagemaker/awsLogs/Macie/us-west-2/ad69687a856ed92b6d7f08a2630cf7df/476054568469/ef89941b-6910-3575-ad21-891514b7a327.jsonl.gz\n",
      "moving file s3://mufg-data-sandbox-us-east-1-sagemaker/AWSLogs/Macie/us-west-2/ad69687a856ed92b6d7f08a2630cf7df/476054568469/f85e8081-addf-387a-af8d-cd087c89b1fa.jsonl.gz to s3://mufg-data-sandbox-us-east-1-sagemaker/awsLogs/Macie/us-west-2/ad69687a856ed92b6d7f08a2630cf7df/476054568469/f85e8081-addf-387a-af8d-cd087c89b1fa.jsonl.gz\n"
     ]
    },
    {
     "data": {
      "text/plain": [
       "True"
      ]
     },
     "execution_count": 22,
     "metadata": {},
     "output_type": "execute_result"
    }
   ],
   "source": [
    "src=\"s3://mufg-data-sandbox-us-east-1-sagemaker/AWSLogs/\"\n",
    "dest=\"s3://mufg-data-sandbox-us-east-1-sagemaker/awsLogs/\"\n",
    "util.aws_s3_mv(src, dest)"
   ]
  },
  {
   "cell_type": "code",
   "execution_count": 24,
   "id": "23c411ea",
   "metadata": {},
   "outputs": [
    {
     "name": "stdout",
     "output_type": "stream",
     "text": [
      "moving file s3://mufg-data-sandbox-us-east-1-sagemaker/awsLogs/Macie/us-west-2/1ea1facfc4eb80aefc8d42dc563c4248/476054568469/3b64f540-69b6-3b76-9dd6-9943c19d7f67.jsonl.gz to awsLogs/3b64f540-69b6-3b76-9dd6-9943c19d7f67.jsonl.gz\n"
     ]
    },
    {
     "data": {
      "text/plain": [
       "True"
      ]
     },
     "execution_count": 24,
     "metadata": {},
     "output_type": "execute_result"
    }
   ],
   "source": [
    "util.aws_s3_mv(\"s3://mufg-data-sandbox-us-east-1-sagemaker/awsLogs/Macie/us-west-2/1ea1facfc4eb80aefc8d42dc563c4248/476054568469/3b64f540-69b6-3b76-9dd6-9943c19d7f67.jsonl.gz\", \"awsLogs/\")"
   ]
  },
  {
   "cell_type": "code",
   "execution_count": 28,
   "id": "a5e329cb",
   "metadata": {},
   "outputs": [
    {
     "name": "stdout",
     "output_type": "stream",
     "text": [
      "moving file s3://mufg-data-sandbox-us-east-1-sagemaker/sagemaker/bootstrap/scripts/add_mand_tags.sh to /home/ec2-user/SageMaker/add_mand_tags.sh\n"
     ]
    },
    {
     "data": {
      "text/plain": [
       "True"
      ]
     },
     "execution_count": 28,
     "metadata": {},
     "output_type": "execute_result"
    }
   ],
   "source": [
    "util.aws_s3_mv(\"s3://mufg-data-sandbox-us-east-1-sagemaker/sagemaker/bootstrap/scripts/add_mand_tags.sh\", \"/home/ec2-user/SageMaker/\")"
   ]
  },
  {
   "cell_type": "code",
   "execution_count": 29,
   "id": "d569116b",
   "metadata": {},
   "outputs": [
    {
     "name": "stdout",
     "output_type": "stream",
     "text": [
      "moving file /home/ec2-user/SageMaker/add_mand_tags.sh to s3://mufg-data-sandbox-us-east-1-sagemaker/sagemaker/bootstrap/scripts/\n"
     ]
    },
    {
     "data": {
      "text/plain": [
       "True"
      ]
     },
     "execution_count": 29,
     "metadata": {},
     "output_type": "execute_result"
    }
   ],
   "source": [
    "util.aws_s3_mv(\"/home/ec2-user/SageMaker/add_mand_tags.sh\", \"s3://mufg-data-sandbox-us-east-1-sagemaker/sagemaker/bootstrap/scripts/\")"
   ]
  },
  {
   "cell_type": "code",
   "execution_count": 34,
   "id": "b86ff68f",
   "metadata": {},
   "outputs": [
    {
     "data": {
      "text/plain": [
       "'file.txt'"
      ]
     },
     "execution_count": 34,
     "metadata": {},
     "output_type": "execute_result"
    }
   ],
   "source": [
    "util._get_dest_obj_name(\"test\", \"test/file.txt\")\n"
   ]
  },
  {
   "cell_type": "code",
   "execution_count": 52,
   "id": "c9de19aa",
   "metadata": {},
   "outputs": [
    {
     "data": {
      "text/plain": [
       "'test.file'"
      ]
     },
     "execution_count": 52,
     "metadata": {},
     "output_type": "execute_result"
    }
   ],
   "source": [
    "import os\n",
    "os.path.basename(os.path.abspath(\"dest/test.file\"))\n",
    "#os.path.isdir(os.path.abspath(\"dest\"))"
   ]
  },
  {
   "cell_type": "code",
   "execution_count": 38,
   "id": "8d578d9c",
   "metadata": {},
   "outputs": [
    {
     "data": {
      "text/plain": [
       "'file.txt'"
      ]
     },
     "execution_count": 38,
     "metadata": {},
     "output_type": "execute_result"
    }
   ],
   "source": [
    "util._extract_immediate_prefix(\"test/file.txt/\")"
   ]
  },
  {
   "cell_type": "code",
   "execution_count": null,
   "id": "c305f9bd",
   "metadata": {},
   "outputs": [],
   "source": []
  }
 ],
 "metadata": {
  "kernelspec": {
   "display_name": "conda_python3",
   "language": "python",
   "name": "conda_python3"
  },
  "language_info": {
   "codemirror_mode": {
    "name": "ipython",
    "version": 3
   },
   "file_extension": ".py",
   "mimetype": "text/x-python",
   "name": "python",
   "nbconvert_exporter": "python",
   "pygments_lexer": "ipython3",
   "version": "3.6.13"
  }
 },
 "nbformat": 4,
 "nbformat_minor": 5
}
