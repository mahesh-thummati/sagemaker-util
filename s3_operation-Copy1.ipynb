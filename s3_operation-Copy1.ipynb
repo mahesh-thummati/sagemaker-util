{
 "cells": [
  {
   "cell_type": "code",
   "execution_count": 48,
   "id": "c8bf1af9",
   "metadata": {},
   "outputs": [],
   "source": [
    "from genericpath import isdir\n",
    "from posixpath import abspath\n",
    "import re\n",
    "import threading\n",
    "import os\n",
    "import boto3\n",
    "from boto3.s3.transfer import TransferConfig\n",
    "from botocore.utils import S3_ACCELERATE_WHITELIST\n",
    "\n",
    "\n",
    "class Error(Exception):\n",
    "    \"\"\"Base class for exceptions in this module.\"\"\"\n",
    "    pass\n",
    "\n",
    "def _is_s3(path:str)->bool:\n",
    "    \"\"\"\n",
    "    Determines if the path is an s3 path\n",
    "    \"\"\"\n",
    "    return path.startswith(\"s3://\")\n",
    "\n",
    "def _trim_path(path):\n",
    "    \"\"\"\n",
    "    trims \"/\" at the end of path\n",
    "    \"\"\"\n",
    "    if path.endswith(\"/\"):\n",
    "        path = path[:-1] # remove / at the end\n",
    "    \n",
    "    return path\n",
    "\n",
    "def _is_dir(path: str)->bool:\n",
    "    \"\"\"\n",
    "    Determines if a path is a directory\n",
    "    \"\"\"\n",
    "    if _is_s3(path):\n",
    "        return path.endswith(\"/\")\n",
    "    else:\n",
    "        return os.path.isdir(os.path.abspath(path))\n",
    "\n",
    "def _append_object(base_path, obj)->str:\n",
    "    \"\"\"\n",
    "    Appends object to basepath\n",
    "    \"\"\"\n",
    "    base_path = _trim_path(base_path)\n",
    "    return f\"{base_path}/{obj}\"\n",
    "\n",
    "def _extract_bucket_key(s3_uri: str)->tuple:\n",
    "    \"\"\"\n",
    "    This extracts bucket name and key given s3 uri. \n",
    "    :param s3_uri: s3 uri of form s3://bucket_name/prefix1/prefix2/file.ext\n",
    "    :return bucket, key tuple\n",
    "    \"\"\"\n",
    "    s3_regex=\"^s3://([a-z0-9.-]+)/(.*)$\"\n",
    "    search =re.search(s3_regex, s3_uri)\n",
    "    if search is None:\n",
    "        raise Error(\"Invalid s3 uri: {}\".format(s3_uri))\n",
    "    return search.groups()\n",
    "\n",
    "def _extract_immediate_prefix(obj_key:str)->str:\n",
    "    \"\"\"\n",
    "    Extracts immediate prefix from source object\n",
    "    \"\"\"\n",
    "    immed_prefix = \"\"\n",
    "    if len(obj_key.split(\"/\")) > 1:\n",
    "        immed_prefix = obj_key.split(\"/\")[-2]\n",
    "    \n",
    "    return immed_prefix\n",
    "\n",
    "def _get_dest_obj_name(initial_src, obj):\n",
    "    \"\"\"\n",
    "    Determines destination object name based on initial source from use input and listed object passed\n",
    "    \"\"\"\n",
    "    immed_prefix = \"\"\n",
    "    if _is_s3(initial_src):\n",
    "        immed_prefix = _extract_immediate_prefix(_extract_bucket_key(initial_src)[1])\n",
    "    else:\n",
    "        if os.path.isdir(os.path.abspath(initial_src)):\n",
    "            immed_prefix = os.path.basename(os.path.abspath(initial_src))\n",
    "        else:\n",
    "            immed_prefix = _extract_immediate_prefix(initial_src)\n",
    "    \n",
    "    if immed_prefix == \"\":\n",
    "        return obj\n",
    "    else:\n",
    "        return obj.split(\"{}/\".format(immed_prefix))[-1]\n",
    "\n",
    "def _list_dir(dir_name:str)->list:\n",
    "    \"\"\"\n",
    "    Lists files in a dir and it's sub directories recurssively\n",
    "    \"\"\"\n",
    "    files_and_dirs = os.listdir(dir_name)\n",
    "    list_of_files = []\n",
    "    for file in files_and_dirs:\n",
    "        completePath = os.path.join(dir_name, file)\n",
    "        if os.path.isdir(completePath):\n",
    "            list_of_files = list_of_files + _list_dir(completePath)\n",
    "        else:\n",
    "            list_of_files.append(completePath)\n",
    "\n",
    "    return list_of_files\n",
    "\n",
    "def _create_local_dir(file_path:str)->bool:\n",
    "    \"\"\"\n",
    "    creates local directory if does not exist\n",
    "    \"\"\"\n",
    "    try:\n",
    "        directory = os.path.dirname(file_path)\n",
    "        if directory == \"\":\n",
    "            return True # nothing to create\n",
    "        if not os.path.exists(directory):\n",
    "            os.makedirs(directory)\n",
    "    except Exception as exc:\n",
    "        raise Error(\"Error {} occurred while creating local directory\".format(exc))\n",
    "    \n",
    "    return True\n",
    "\n",
    "def aws_s3_ls(s3_uri: str, list_extended=False)->list:\n",
    "    \"\"\"\n",
    "    list s3 objects in a bucket/prefix\n",
    "    :param s3_uri: s3 path to list\n",
    "    :param list_extended: to list extedned details - owner, size, last modified and object name\n",
    "    :return list of s3 objects\n",
    "    \"\"\"\n",
    "    client = boto3.client(\"s3\")\n",
    "    bucket, prefix = _extract_bucket_key(s3_uri)\n",
    "    s3_objects = []\n",
    "    cont_token = None\n",
    "    while (True):\n",
    "        if cont_token is None:\n",
    "            kwargs = {\n",
    "                \"Bucket\": bucket,\n",
    "                \"MaxKeys\": 100,\n",
    "                \"Prefix\": prefix\n",
    "            }\n",
    "        else:\n",
    "            kwargs = {\n",
    "                \"Bucket\": bucket,\n",
    "                \"MaxKeys\": 100,\n",
    "                \"Prefix\": prefix,\n",
    "                \"ContinuationToken\": cont_token\n",
    "            }   \n",
    "        try:\n",
    "            response = client.list_objects_v2(**kwargs)\n",
    "            if response[\"KeyCount\"] == 0:\n",
    "                print (\"Requested s3 object doesn't exist.\")\n",
    "                break\n",
    "            for record in response[\"Contents\"]:\n",
    "                if record[\"Size\"] > 0: # ignore just prefix names\n",
    "                    if list_extended:\n",
    "                        s3_objects.append((record[\"Size\"], \n",
    "                                           record[\"LastModified\"].strftime(\"%Y%m%d %H:%M:%S.%s\"), \n",
    "                                           record[\"Key\"]))\n",
    "                    else:\n",
    "                        s3_objects.append(record[\"Key\"])\n",
    "            if response[\"IsTruncated\"]:\n",
    "                cont_token = response[\"NextContinuationToken\"]\n",
    "            else:\n",
    "                break\n",
    "        except Exception as exc:\n",
    "            raise Error(\"Error {} occurred while listing objects.\".format(exc))\n",
    "    return s3_objects\n",
    "\n",
    "def _list_objects(src: str)->list:\n",
    "    \"\"\"\n",
    "    List objects based on file system\n",
    "    \"\"\"\n",
    "    if _is_s3(src):\n",
    "        return aws_s3_ls(src)\n",
    "    else:\n",
    "        if _is_dir(src):\n",
    "            return _list_dir(src)\n",
    "        else:\n",
    "            return [src]\n",
    "\n",
    "def _copy_s3_to_s3(src_bucket: str, src_key: str, dest_bucket: str, dest_key: str)->bool:\n",
    "    \"\"\"\n",
    "    copies an s3 file to another s3 bucket\n",
    "    \"\"\"\n",
    "    s3_resource = boto3.resource('s3')\n",
    "    copy_source = {\n",
    "        'Bucket': src_bucket,\n",
    "        'Key': src_key\n",
    "        }\n",
    "    bucket = s3_resource.Bucket(dest_bucket)\n",
    "    try:\n",
    "        bucket.copy(copy_source, dest_key)\n",
    "    except Exception as exc:\n",
    "        raise Error(\"Error {} occurred while working with s3 object to s3 object.\".format(exc))\n",
    "    \n",
    "    return True\n",
    "\n",
    "def _copy_s3_to_local(src_bucket: str, src_key: str, dest: str)->bool:\n",
    "    \"\"\"\n",
    "    copies an s3 file to local\n",
    "    \"\"\"\n",
    "    s3_resource = boto3.resource('s3')\n",
    "    try:\n",
    "        s3_resource.Bucket(src_bucket).download_file(src_key, dest)\n",
    "    except Exception as exc:\n",
    "        raise Error(\"Error {} occurred while working on s3 object to local.\".format(exc))\n",
    "    \n",
    "    return True\n",
    "\n",
    "def _copy_local_to_s3(src: str, dest_bucket: str, dest_key: str)->bool:\n",
    "    \"\"\"\n",
    "    copies local file to s3\n",
    "    \"\"\"\n",
    "    s3_client = boto3.client('s3')\n",
    "    try:\n",
    "        response = s3_client.upload_file(src, dest_bucket, dest_key)\n",
    "    except Exception as exc:\n",
    "        raise Error(\"Error {} occurred while working on local object to s3.\".format(exc))\n",
    "    \n",
    "    return True\n",
    "\n",
    "def _process_file_movement(src:str, dest:str, is_move=False)->bool:\n",
    "    \"\"\"\n",
    "    copies/moves s3/local folder/file to s3/local\n",
    "    \"\"\"\n",
    "    debug_str = \"move\" if (is_move) else \"copy\"\n",
    "    \n",
    "    objects = _list_objects(src) # list objects\n",
    "    for obj in objects:\n",
    "        if _is_dir(dest) or _is_dir(src):\n",
    "            temp_dest = _append_object(dest, _get_dest_obj_name(src, obj))\n",
    "        else:\n",
    "            temp_dest = dest\n",
    "        \n",
    "        if _is_s3(src) and _is_s3(dest): #s3 to s3\n",
    "            src_bucket, _ = _extract_bucket_key(src)\n",
    "            dest_bucket, dest_key = _extract_bucket_key(temp_dest)\n",
    "            print(f\"{debug_str} file s3://{src_bucket}/{obj} to {temp_dest}\")\n",
    "            status = _copy_s3_to_s3(src_bucket, obj, dest_bucket, dest_key)\n",
    "            if status and is_move:\n",
    "                aws_s3_rm(f\"s3://{src_bucket}/{obj}\")\n",
    "        elif _is_s3(src): # s3 to local\n",
    "            src_bucket, _ = _extract_bucket_key(src)\n",
    "            _create_local_dir(temp_dest) # create dir if doesn't exist\n",
    "            print(f\"{debug_str} file s3://{src_bucket}/{obj} to {temp_dest}\")\n",
    "            status = _copy_s3_to_local(src_bucket, obj, temp_dest)\n",
    "            if status and is_move:\n",
    "                aws_s3_rm(f\"s3://{src_bucket}/{obj}\")\n",
    "        elif _is_s3(dest): # local to s3\n",
    "            dest_bucket, dest_key = _extract_bucket_key(temp_dest)\n",
    "            print(f\"{debug_str} file {obj} to {temp_dest}\")\n",
    "            status = _copy_local_to_s3(obj, dest_bucket, dest_key)\n",
    "            if status and is_move:\n",
    "                os.remove(obj)       \n",
    "        \n",
    "        if not status:\n",
    "            raise Error(f\"S3 {debug_str} failed.\")\n",
    "    return True\n",
    "\n",
    "def aws_s3_cp(src:str, dest:str)->bool:\n",
    "    \"\"\"\n",
    "    Copies a local file or S3 object to another location locally or in S3\n",
    "\n",
    "    :param src: source s3 object/prefix, local file/directory\n",
    "    :param dest: dest s3 object/prefix, local file/directory\n",
    "    :return True if copy is successful else False\n",
    "    \"\"\"\n",
    "    if _is_s3(src) or _is_s3(dest):\n",
    "        status = _process_file_movement(src, dest)\n",
    "    else:\n",
    "        raise Error(\"None of the src/dest is an s3 filesystem. Use local file utils to copy.\")\n",
    "    if not status:\n",
    "            raise Error(\"S3 copy failed.\")\n",
    "    return True\n",
    "\n",
    "def aws_s3_mv(src:str, dest:str)->bool:\n",
    "    \"\"\"\n",
    "    Moves a local file or S3 object to another location locally or in S3\n",
    "\n",
    "    :param src: source s3 object/prefix, local file/directory\n",
    "    :param dest: dest s3 object/prefix, local file/directory\n",
    "    :return True if copy is successful else False\n",
    "    \"\"\"\n",
    "    if _is_s3(src) or _is_s3(dest):\n",
    "        status = _process_file_movement(src, dest, True)\n",
    "    else:\n",
    "        raise Error(\"None of the src/dest is an s3 filesystem. Use local file utils to move.\")\n",
    "    if not status:\n",
    "            raise Error(\"S3 move failed.\")\n",
    "    return True\n",
    "\n",
    "def aws_s3_rm(s3_key: str)->bool:\n",
    "    \"\"\"\n",
    "    Delete s3 object or multiple objects from an s3 bucket.\n",
    "    :param s3_key: s3 key in the form \"s3://bucket_name/file_name.txt\", if the s3 path ends with \"/\" entire prefix will be deleted\n",
    "    :return True if delete is successful else False\n",
    "    \"\"\"\n",
    "    client = boto3.client(\"s3\")\n",
    "    #list objects\n",
    "    objs_to_delete = aws_s3_ls(s3_key)\n",
    "    if len(objs_to_delete) ==0: # no files to delete\n",
    "        return True\n",
    "    s3_bucket, _ = _extract_bucket_key(s3_key)\n",
    "    #prepare s3 objects to delete\n",
    "    objs_list=[]\n",
    "    for obj in objs_to_delete:\n",
    "        objs_list.append({\"Key\": obj})\n",
    "    \n",
    "    try:\n",
    "        response = client.delete_objects(\n",
    "            Bucket=s3_bucket,\n",
    "            Delete={\n",
    "                'Objects': objs_list,\n",
    "                'Quiet': False\n",
    "            }\n",
    "        )\n",
    "    except Exception as exc:\n",
    "        raise Error(\"Cannot delete, exception {} occurred\".format(exc))\n",
    "    \n",
    "    return True"
   ]
  },
  {
   "cell_type": "code",
   "execution_count": 4,
   "id": "bfb492bf",
   "metadata": {},
   "outputs": [],
   "source": [
    "src=\"s3://mufg-data-sandbox-us-east-1-sagemaker/awsLogs/\"\n",
    "dest=\"s3://mufg-data-sandbox-us-east-1-sagemaker/AROAW5VYQHYKT53GIKCDT:mthummati/AWSLogs\""
   ]
  },
  {
   "cell_type": "markdown",
   "id": "968a5b74",
   "metadata": {},
   "source": [
    "### List files in s3"
   ]
  },
  {
   "cell_type": "code",
   "execution_count": 2,
   "id": "21e789be",
   "metadata": {
    "scrolled": true
   },
   "outputs": [
    {
     "data": {
      "text/plain": [
       "['sagemaker/bootstrap/scripts/add_mand_tags.sh']"
      ]
     },
     "execution_count": 2,
     "metadata": {},
     "output_type": "execute_result"
    }
   ],
   "source": [
    "aws_s3_ls(\"s3://mufg-data-sandbox-us-east-1-sagemaker/sagemaker/bootstrap/scripts/add_mand_tags.sh\")"
   ]
  },
  {
   "cell_type": "code",
   "execution_count": 5,
   "id": "02752ead",
   "metadata": {
    "scrolled": true
   },
   "outputs": [
    {
     "data": {
      "text/plain": [
       "['awsLogs/Macie/us-west-2/348da50ddca9309ae4214ccdff2fa5b3/476054568469/01b276ae-c222-37c5-bfeb-18d88ee71008.jsonl.gz',\n",
       " 'awsLogs/Macie/us-west-2/348da50ddca9309ae4214ccdff2fa5b3/476054568469/8f7774cb-1059-3831-a14f-7993126b0a4e.jsonl.gz',\n",
       " 'awsLogs/Macie/us-west-2/649ba993d1ebb03a5cc3da2e2f2b516d/476054568469/7c2379e2-3e6e-34e5-a296-d55ca84e193f.jsonl.gz',\n",
       " 'awsLogs/Macie/us-west-2/6e32127d5763fdff30e17627a1746551/476054568469/0ac29785-c308-38c0-b2b7-9bb2338bdcb1.jsonl.gz',\n",
       " 'awsLogs/Macie/us-west-2/6e32127d5763fdff30e17627a1746551/476054568469/6c181bb1-096a-34cd-99f3-36dfc90cc7ec.jsonl.gz',\n",
       " 'awsLogs/Macie/us-west-2/96f0d21cb4f77b3e28f6e370d0411e98/476054568469/80fa7a49-0d2b-33a0-9d33-50b18a73f1e3.jsonl.gz',\n",
       " 'awsLogs/Macie/us-west-2/96f0d21cb4f77b3e28f6e370d0411e98/476054568469/ac5d8475-8b09-307a-9e72-bbeb8622922b.jsonl.gz',\n",
       " 'awsLogs/Macie/us-west-2/96f0d21cb4f77b3e28f6e370d0411e98/476054568469/d9eff6c1-eacc-3c6e-bfe7-ea0e7234e3be.jsonl.gz',\n",
       " 'awsLogs/Macie/us-west-2/96f0d21cb4f77b3e28f6e370d0411e98/476054568469/f4eb6495-d377-3ca9-b5f6-3c85ef9823b7.jsonl.gz',\n",
       " 'awsLogs/Macie/us-west-2/ad69687a856ed92b6d7f08a2630cf7df/476054568469/33e71af4-496e-3a6d-8f37-3f379e388bcb.jsonl.gz',\n",
       " 'awsLogs/Macie/us-west-2/ad69687a856ed92b6d7f08a2630cf7df/476054568469/ef89941b-6910-3575-ad21-891514b7a327.jsonl.gz',\n",
       " 'awsLogs/Macie/us-west-2/ad69687a856ed92b6d7f08a2630cf7df/476054568469/f85e8081-addf-387a-af8d-cd087c89b1fa.jsonl.gz']"
      ]
     },
     "execution_count": 5,
     "metadata": {},
     "output_type": "execute_result"
    }
   ],
   "source": [
    "aws_s3_ls(src)"
   ]
  },
  {
   "cell_type": "markdown",
   "id": "62548013",
   "metadata": {},
   "source": [
    "### copy files from s3 to s3"
   ]
  },
  {
   "cell_type": "code",
   "execution_count": 11,
   "id": "b44e07d4",
   "metadata": {
    "scrolled": true
   },
   "outputs": [
    {
     "name": "stdout",
     "output_type": "stream",
     "text": [
      "copy file s3://mufg-data-sandbox-us-east-1-sagemaker/awsLogs/Macie/us-west-2/348da50ddca9309ae4214ccdff2fa5b3/476054568469/01b276ae-c222-37c5-bfeb-18d88ee71008.jsonl.gz to s3://mufg-data-sandbox-us-east-1-sagemaker/AROAW5VYQHYKT53GIKCDT:mthummati/AWSLogs/Macie/us-west-2/348da50ddca9309ae4214ccdff2fa5b3/476054568469/01b276ae-c222-37c5-bfeb-18d88ee71008.jsonl.gz\n",
      "copy file s3://mufg-data-sandbox-us-east-1-sagemaker/awsLogs/Macie/us-west-2/348da50ddca9309ae4214ccdff2fa5b3/476054568469/8f7774cb-1059-3831-a14f-7993126b0a4e.jsonl.gz to s3://mufg-data-sandbox-us-east-1-sagemaker/AROAW5VYQHYKT53GIKCDT:mthummati/AWSLogs/Macie/us-west-2/348da50ddca9309ae4214ccdff2fa5b3/476054568469/8f7774cb-1059-3831-a14f-7993126b0a4e.jsonl.gz\n",
      "copy file s3://mufg-data-sandbox-us-east-1-sagemaker/awsLogs/Macie/us-west-2/649ba993d1ebb03a5cc3da2e2f2b516d/476054568469/7c2379e2-3e6e-34e5-a296-d55ca84e193f.jsonl.gz to s3://mufg-data-sandbox-us-east-1-sagemaker/AROAW5VYQHYKT53GIKCDT:mthummati/AWSLogs/Macie/us-west-2/649ba993d1ebb03a5cc3da2e2f2b516d/476054568469/7c2379e2-3e6e-34e5-a296-d55ca84e193f.jsonl.gz\n",
      "copy file s3://mufg-data-sandbox-us-east-1-sagemaker/awsLogs/Macie/us-west-2/6e32127d5763fdff30e17627a1746551/476054568469/0ac29785-c308-38c0-b2b7-9bb2338bdcb1.jsonl.gz to s3://mufg-data-sandbox-us-east-1-sagemaker/AROAW5VYQHYKT53GIKCDT:mthummati/AWSLogs/Macie/us-west-2/6e32127d5763fdff30e17627a1746551/476054568469/0ac29785-c308-38c0-b2b7-9bb2338bdcb1.jsonl.gz\n",
      "copy file s3://mufg-data-sandbox-us-east-1-sagemaker/awsLogs/Macie/us-west-2/6e32127d5763fdff30e17627a1746551/476054568469/6c181bb1-096a-34cd-99f3-36dfc90cc7ec.jsonl.gz to s3://mufg-data-sandbox-us-east-1-sagemaker/AROAW5VYQHYKT53GIKCDT:mthummati/AWSLogs/Macie/us-west-2/6e32127d5763fdff30e17627a1746551/476054568469/6c181bb1-096a-34cd-99f3-36dfc90cc7ec.jsonl.gz\n",
      "copy file s3://mufg-data-sandbox-us-east-1-sagemaker/awsLogs/Macie/us-west-2/96f0d21cb4f77b3e28f6e370d0411e98/476054568469/80fa7a49-0d2b-33a0-9d33-50b18a73f1e3.jsonl.gz to s3://mufg-data-sandbox-us-east-1-sagemaker/AROAW5VYQHYKT53GIKCDT:mthummati/AWSLogs/Macie/us-west-2/96f0d21cb4f77b3e28f6e370d0411e98/476054568469/80fa7a49-0d2b-33a0-9d33-50b18a73f1e3.jsonl.gz\n",
      "copy file s3://mufg-data-sandbox-us-east-1-sagemaker/awsLogs/Macie/us-west-2/96f0d21cb4f77b3e28f6e370d0411e98/476054568469/ac5d8475-8b09-307a-9e72-bbeb8622922b.jsonl.gz to s3://mufg-data-sandbox-us-east-1-sagemaker/AROAW5VYQHYKT53GIKCDT:mthummati/AWSLogs/Macie/us-west-2/96f0d21cb4f77b3e28f6e370d0411e98/476054568469/ac5d8475-8b09-307a-9e72-bbeb8622922b.jsonl.gz\n",
      "copy file s3://mufg-data-sandbox-us-east-1-sagemaker/awsLogs/Macie/us-west-2/96f0d21cb4f77b3e28f6e370d0411e98/476054568469/d9eff6c1-eacc-3c6e-bfe7-ea0e7234e3be.jsonl.gz to s3://mufg-data-sandbox-us-east-1-sagemaker/AROAW5VYQHYKT53GIKCDT:mthummati/AWSLogs/Macie/us-west-2/96f0d21cb4f77b3e28f6e370d0411e98/476054568469/d9eff6c1-eacc-3c6e-bfe7-ea0e7234e3be.jsonl.gz\n",
      "copy file s3://mufg-data-sandbox-us-east-1-sagemaker/awsLogs/Macie/us-west-2/96f0d21cb4f77b3e28f6e370d0411e98/476054568469/f4eb6495-d377-3ca9-b5f6-3c85ef9823b7.jsonl.gz to s3://mufg-data-sandbox-us-east-1-sagemaker/AROAW5VYQHYKT53GIKCDT:mthummati/AWSLogs/Macie/us-west-2/96f0d21cb4f77b3e28f6e370d0411e98/476054568469/f4eb6495-d377-3ca9-b5f6-3c85ef9823b7.jsonl.gz\n",
      "copy file s3://mufg-data-sandbox-us-east-1-sagemaker/awsLogs/Macie/us-west-2/ad69687a856ed92b6d7f08a2630cf7df/476054568469/33e71af4-496e-3a6d-8f37-3f379e388bcb.jsonl.gz to s3://mufg-data-sandbox-us-east-1-sagemaker/AROAW5VYQHYKT53GIKCDT:mthummati/AWSLogs/Macie/us-west-2/ad69687a856ed92b6d7f08a2630cf7df/476054568469/33e71af4-496e-3a6d-8f37-3f379e388bcb.jsonl.gz\n",
      "copy file s3://mufg-data-sandbox-us-east-1-sagemaker/awsLogs/Macie/us-west-2/ad69687a856ed92b6d7f08a2630cf7df/476054568469/ef89941b-6910-3575-ad21-891514b7a327.jsonl.gz to s3://mufg-data-sandbox-us-east-1-sagemaker/AROAW5VYQHYKT53GIKCDT:mthummati/AWSLogs/Macie/us-west-2/ad69687a856ed92b6d7f08a2630cf7df/476054568469/ef89941b-6910-3575-ad21-891514b7a327.jsonl.gz\n",
      "copy file s3://mufg-data-sandbox-us-east-1-sagemaker/awsLogs/Macie/us-west-2/ad69687a856ed92b6d7f08a2630cf7df/476054568469/f85e8081-addf-387a-af8d-cd087c89b1fa.jsonl.gz to s3://mufg-data-sandbox-us-east-1-sagemaker/AROAW5VYQHYKT53GIKCDT:mthummati/AWSLogs/Macie/us-west-2/ad69687a856ed92b6d7f08a2630cf7df/476054568469/f85e8081-addf-387a-af8d-cd087c89b1fa.jsonl.gz\n"
     ]
    },
    {
     "data": {
      "text/plain": [
       "True"
      ]
     },
     "execution_count": 11,
     "metadata": {},
     "output_type": "execute_result"
    }
   ],
   "source": [
    "aws_s3_cp(src, dest)"
   ]
  },
  {
   "cell_type": "code",
   "execution_count": 12,
   "id": "93c451a9",
   "metadata": {},
   "outputs": [
    {
     "data": {
      "text/plain": [
       "['AROAW5VYQHYKT53GIKCDT:mthummati/AWSLogs/Macie/us-west-2/348da50ddca9309ae4214ccdff2fa5b3/476054568469/01b276ae-c222-37c5-bfeb-18d88ee71008.jsonl.gz',\n",
       " 'AROAW5VYQHYKT53GIKCDT:mthummati/AWSLogs/Macie/us-west-2/348da50ddca9309ae4214ccdff2fa5b3/476054568469/8f7774cb-1059-3831-a14f-7993126b0a4e.jsonl.gz',\n",
       " 'AROAW5VYQHYKT53GIKCDT:mthummati/AWSLogs/Macie/us-west-2/649ba993d1ebb03a5cc3da2e2f2b516d/476054568469/7c2379e2-3e6e-34e5-a296-d55ca84e193f.jsonl.gz',\n",
       " 'AROAW5VYQHYKT53GIKCDT:mthummati/AWSLogs/Macie/us-west-2/6e32127d5763fdff30e17627a1746551/476054568469/0ac29785-c308-38c0-b2b7-9bb2338bdcb1.jsonl.gz',\n",
       " 'AROAW5VYQHYKT53GIKCDT:mthummati/AWSLogs/Macie/us-west-2/6e32127d5763fdff30e17627a1746551/476054568469/6c181bb1-096a-34cd-99f3-36dfc90cc7ec.jsonl.gz',\n",
       " 'AROAW5VYQHYKT53GIKCDT:mthummati/AWSLogs/Macie/us-west-2/96f0d21cb4f77b3e28f6e370d0411e98/476054568469/80fa7a49-0d2b-33a0-9d33-50b18a73f1e3.jsonl.gz',\n",
       " 'AROAW5VYQHYKT53GIKCDT:mthummati/AWSLogs/Macie/us-west-2/96f0d21cb4f77b3e28f6e370d0411e98/476054568469/ac5d8475-8b09-307a-9e72-bbeb8622922b.jsonl.gz',\n",
       " 'AROAW5VYQHYKT53GIKCDT:mthummati/AWSLogs/Macie/us-west-2/96f0d21cb4f77b3e28f6e370d0411e98/476054568469/d9eff6c1-eacc-3c6e-bfe7-ea0e7234e3be.jsonl.gz',\n",
       " 'AROAW5VYQHYKT53GIKCDT:mthummati/AWSLogs/Macie/us-west-2/96f0d21cb4f77b3e28f6e370d0411e98/476054568469/f4eb6495-d377-3ca9-b5f6-3c85ef9823b7.jsonl.gz',\n",
       " 'AROAW5VYQHYKT53GIKCDT:mthummati/AWSLogs/Macie/us-west-2/ad69687a856ed92b6d7f08a2630cf7df/476054568469/33e71af4-496e-3a6d-8f37-3f379e388bcb.jsonl.gz',\n",
       " 'AROAW5VYQHYKT53GIKCDT:mthummati/AWSLogs/Macie/us-west-2/ad69687a856ed92b6d7f08a2630cf7df/476054568469/ef89941b-6910-3575-ad21-891514b7a327.jsonl.gz',\n",
       " 'AROAW5VYQHYKT53GIKCDT:mthummati/AWSLogs/Macie/us-west-2/ad69687a856ed92b6d7f08a2630cf7df/476054568469/f85e8081-addf-387a-af8d-cd087c89b1fa.jsonl.gz']"
      ]
     },
     "execution_count": 12,
     "metadata": {},
     "output_type": "execute_result"
    }
   ],
   "source": [
    "aws_s3_ls(dest)"
   ]
  },
  {
   "cell_type": "markdown",
   "id": "6d9fffd3",
   "metadata": {},
   "source": [
    "### delete file/dir from s3"
   ]
  },
  {
   "cell_type": "code",
   "execution_count": 14,
   "id": "4137ae53",
   "metadata": {},
   "outputs": [
    {
     "data": {
      "text/plain": [
       "True"
      ]
     },
     "execution_count": 14,
     "metadata": {},
     "output_type": "execute_result"
    }
   ],
   "source": [
    "aws_s3_rm(\"s3://mufg-data-sandbox-us-east-1-sagemaker/AROAW5VYQHYKT53GIKCDT:mthummati/AWSLogs/Macie/us-west-2/ad69687a856ed92b6d7f08a2630cf7df/476054568469/f85e8081-addf-387a-af8d-cd087c89b1fa.jsonl.gz\")"
   ]
  },
  {
   "cell_type": "code",
   "execution_count": 15,
   "id": "c6c97711",
   "metadata": {},
   "outputs": [
    {
     "data": {
      "text/plain": [
       "True"
      ]
     },
     "execution_count": 15,
     "metadata": {},
     "output_type": "execute_result"
    }
   ],
   "source": [
    "aws_s3_rm(dest)"
   ]
  },
  {
   "cell_type": "code",
   "execution_count": 16,
   "id": "5712fced",
   "metadata": {},
   "outputs": [
    {
     "name": "stdout",
     "output_type": "stream",
     "text": [
      "Requested s3 object doesn't exist.\n"
     ]
    },
    {
     "data": {
      "text/plain": [
       "[]"
      ]
     },
     "execution_count": 16,
     "metadata": {},
     "output_type": "execute_result"
    }
   ],
   "source": [
    "aws_s3_ls(dest)"
   ]
  },
  {
   "cell_type": "markdown",
   "id": "9629e4cc",
   "metadata": {},
   "source": [
    "### download file/dir to local"
   ]
  },
  {
   "cell_type": "code",
   "execution_count": 19,
   "id": "f60e261c",
   "metadata": {
    "scrolled": true
   },
   "outputs": [
    {
     "name": "stdout",
     "output_type": "stream",
     "text": [
      "copy file s3://mufg-data-sandbox-us-east-1-sagemaker/sagemaker/bootstrap/scripts/add_mand_tags.sh to test.txt\n"
     ]
    },
    {
     "data": {
      "text/plain": [
       "True"
      ]
     },
     "execution_count": 19,
     "metadata": {},
     "output_type": "execute_result"
    }
   ],
   "source": [
    "aws_s3_cp(\"s3://mufg-data-sandbox-us-east-1-sagemaker/sagemaker/bootstrap/scripts/add_mand_tags.sh\", \"test.txt\")"
   ]
  },
  {
   "cell_type": "code",
   "execution_count": 21,
   "id": "9b010da8",
   "metadata": {},
   "outputs": [
    {
     "name": "stdout",
     "output_type": "stream",
     "text": [
      "copy file s3://mufg-data-sandbox-us-east-1-sagemaker/sagemaker/bootstrap/scripts/add_mand_tags.sh to /home/ec2-user/SageMaker/add_mand_tags.sh\n"
     ]
    },
    {
     "data": {
      "text/plain": [
       "True"
      ]
     },
     "execution_count": 21,
     "metadata": {},
     "output_type": "execute_result"
    }
   ],
   "source": [
    "aws_s3_cp(\"s3://mufg-data-sandbox-us-east-1-sagemaker/sagemaker/bootstrap/scripts/add_mand_tags.sh\", \"/home/ec2-user/SageMaker\")"
   ]
  },
  {
   "cell_type": "code",
   "execution_count": 24,
   "id": "612d249e",
   "metadata": {},
   "outputs": [
    {
     "name": "stdout",
     "output_type": "stream",
     "text": [
      "copy file s3://mufg-data-sandbox-us-east-1-sagemaker/sagemaker/bootstrap/add_mand_tags.sh to /home/ec2-user/SageMaker/bootstrap/add_mand_tags.sh\n",
      "copy file s3://mufg-data-sandbox-us-east-1-sagemaker/sagemaker/bootstrap/scripts/add_mand_tags.sh to /home/ec2-user/SageMaker/bootstrap/scripts/add_mand_tags.sh\n",
      "copy file s3://mufg-data-sandbox-us-east-1-sagemaker/sagemaker/bootstrap/scripts/add_pip_repo.sh to /home/ec2-user/SageMaker/bootstrap/scripts/add_pip_repo.sh\n",
      "copy file s3://mufg-data-sandbox-us-east-1-sagemaker/sagemaker/bootstrap/scripts/bootstrap_sagemaker.sh to /home/ec2-user/SageMaker/bootstrap/scripts/bootstrap_sagemaker.sh\n",
      "copy file s3://mufg-data-sandbox-us-east-1-sagemaker/sagemaker/bootstrap/scripts/configure_git.sh to /home/ec2-user/SageMaker/bootstrap/scripts/configure_git.sh\n",
      "copy file s3://mufg-data-sandbox-us-east-1-sagemaker/sagemaker/bootstrap/test.file to /home/ec2-user/SageMaker/bootstrap/test.file\n"
     ]
    },
    {
     "data": {
      "text/plain": [
       "True"
      ]
     },
     "execution_count": 24,
     "metadata": {},
     "output_type": "execute_result"
    }
   ],
   "source": [
    "aws_s3_cp(\"s3://mufg-data-sandbox-us-east-1-sagemaker/sagemaker/bootstrap/\", \"/home/ec2-user/SageMaker/bootstrap/\")"
   ]
  },
  {
   "cell_type": "markdown",
   "id": "f064df1c",
   "metadata": {},
   "source": [
    "### upload file to s3"
   ]
  },
  {
   "cell_type": "code",
   "execution_count": 39,
   "id": "b58a96f9",
   "metadata": {},
   "outputs": [
    {
     "name": "stdout",
     "output_type": "stream",
     "text": [
      "copy file /home/ec2-user/SageMaker/scripts/add_pip_repo.sh to s3://mufg-data-sandbox-us-east-1-sagemaker/sagemaker/bootstrap/scripts/add_pip_repo.sh\n",
      "copy file /home/ec2-user/SageMaker/scripts/configure_git.sh to s3://mufg-data-sandbox-us-east-1-sagemaker/sagemaker/bootstrap/scripts/configure_git.sh\n",
      "copy file /home/ec2-user/SageMaker/scripts/bootstrap_sagemaker.sh to s3://mufg-data-sandbox-us-east-1-sagemaker/sagemaker/bootstrap/scripts/bootstrap_sagemaker.sh\n",
      "copy file /home/ec2-user/SageMaker/scripts/add_mand_tags.sh to s3://mufg-data-sandbox-us-east-1-sagemaker/sagemaker/bootstrap/scripts/add_mand_tags.sh\n"
     ]
    },
    {
     "data": {
      "text/plain": [
       "True"
      ]
     },
     "execution_count": 39,
     "metadata": {},
     "output_type": "execute_result"
    }
   ],
   "source": [
    "aws_s3_cp(\"/home/ec2-user/SageMaker/scripts/\", \"s3://mufg-data-sandbox-us-east-1-sagemaker/sagemaker/bootstrap/scripts/\")"
   ]
  },
  {
   "cell_type": "code",
   "execution_count": 50,
   "id": "307ef7f8",
   "metadata": {
    "scrolled": true
   },
   "outputs": [
    {
     "name": "stdout",
     "output_type": "stream",
     "text": [
      "copy file /home/ec2-user/SageMaker/scripts/add_mand_tags.sh to s3://mufg-data-sandbox-us-east-1-sagemaker/sagemaker/bootstrap/test/add_mand_tags.sh\n"
     ]
    },
    {
     "data": {
      "text/plain": [
       "True"
      ]
     },
     "execution_count": 50,
     "metadata": {},
     "output_type": "execute_result"
    }
   ],
   "source": [
    "aws_s3_cp(\"/home/ec2-user/SageMaker/scripts/add_mand_tags.sh\", \"s3://mufg-data-sandbox-us-east-1-sagemaker/sagemaker/bootstrap/test/\")"
   ]
  },
  {
   "cell_type": "code",
   "execution_count": 52,
   "id": "76a50551",
   "metadata": {},
   "outputs": [
    {
     "name": "stdout",
     "output_type": "stream",
     "text": [
      "copy file add_mand_tags.sh to s3://mufg-data-sandbox-us-east-1-sagemaker/sagemaker/bootstrap/test/add_mand_tags.sh\n"
     ]
    },
    {
     "data": {
      "text/plain": [
       "True"
      ]
     },
     "execution_count": 52,
     "metadata": {},
     "output_type": "execute_result"
    }
   ],
   "source": [
    "aws_s3_cp(\"add_mand_tags.sh\", \"s3://mufg-data-sandbox-us-east-1-sagemaker/sagemaker/bootstrap/test/\")"
   ]
  },
  {
   "cell_type": "code",
   "execution_count": 51,
   "id": "b6e99208",
   "metadata": {},
   "outputs": [
    {
     "name": "stdout",
     "output_type": "stream",
     "text": [
      "copy file /home/ec2-user/SageMaker/scripts/add_mand_tags.sh to s3://mufg-data-sandbox-us-east-1-sagemaker/sagemaker/bootstrap/test.file\n"
     ]
    },
    {
     "data": {
      "text/plain": [
       "True"
      ]
     },
     "execution_count": 51,
     "metadata": {},
     "output_type": "execute_result"
    }
   ],
   "source": [
    "aws_s3_cp(\"/home/ec2-user/SageMaker/scripts/add_mand_tags.sh\", \"s3://mufg-data-sandbox-us-east-1-sagemaker/sagemaker/bootstrap/test.file\")"
   ]
  },
  {
   "cell_type": "markdown",
   "id": "e9869c5b",
   "metadata": {},
   "source": [
    "### Move files from s3 to s3"
   ]
  },
  {
   "cell_type": "code",
   "execution_count": 54,
   "id": "28e062d1",
   "metadata": {
    "scrolled": true
   },
   "outputs": [
    {
     "name": "stdout",
     "output_type": "stream",
     "text": [
      "move file s3://mufg-data-sandbox-us-east-1-sagemaker/awsLogs/Macie/us-west-2/348da50ddca9309ae4214ccdff2fa5b3/476054568469/01b276ae-c222-37c5-bfeb-18d88ee71008.jsonl.gz to s3://mufg-data-sandbox-us-east-1-sagemaker/AWSLogs/Macie/us-west-2/348da50ddca9309ae4214ccdff2fa5b3/476054568469/01b276ae-c222-37c5-bfeb-18d88ee71008.jsonl.gz\n",
      "move file s3://mufg-data-sandbox-us-east-1-sagemaker/awsLogs/Macie/us-west-2/348da50ddca9309ae4214ccdff2fa5b3/476054568469/8f7774cb-1059-3831-a14f-7993126b0a4e.jsonl.gz to s3://mufg-data-sandbox-us-east-1-sagemaker/AWSLogs/Macie/us-west-2/348da50ddca9309ae4214ccdff2fa5b3/476054568469/8f7774cb-1059-3831-a14f-7993126b0a4e.jsonl.gz\n",
      "move file s3://mufg-data-sandbox-us-east-1-sagemaker/awsLogs/Macie/us-west-2/649ba993d1ebb03a5cc3da2e2f2b516d/476054568469/7c2379e2-3e6e-34e5-a296-d55ca84e193f.jsonl.gz to s3://mufg-data-sandbox-us-east-1-sagemaker/AWSLogs/Macie/us-west-2/649ba993d1ebb03a5cc3da2e2f2b516d/476054568469/7c2379e2-3e6e-34e5-a296-d55ca84e193f.jsonl.gz\n",
      "move file s3://mufg-data-sandbox-us-east-1-sagemaker/awsLogs/Macie/us-west-2/6e32127d5763fdff30e17627a1746551/476054568469/0ac29785-c308-38c0-b2b7-9bb2338bdcb1.jsonl.gz to s3://mufg-data-sandbox-us-east-1-sagemaker/AWSLogs/Macie/us-west-2/6e32127d5763fdff30e17627a1746551/476054568469/0ac29785-c308-38c0-b2b7-9bb2338bdcb1.jsonl.gz\n",
      "move file s3://mufg-data-sandbox-us-east-1-sagemaker/awsLogs/Macie/us-west-2/6e32127d5763fdff30e17627a1746551/476054568469/6c181bb1-096a-34cd-99f3-36dfc90cc7ec.jsonl.gz to s3://mufg-data-sandbox-us-east-1-sagemaker/AWSLogs/Macie/us-west-2/6e32127d5763fdff30e17627a1746551/476054568469/6c181bb1-096a-34cd-99f3-36dfc90cc7ec.jsonl.gz\n",
      "move file s3://mufg-data-sandbox-us-east-1-sagemaker/awsLogs/Macie/us-west-2/96f0d21cb4f77b3e28f6e370d0411e98/476054568469/80fa7a49-0d2b-33a0-9d33-50b18a73f1e3.jsonl.gz to s3://mufg-data-sandbox-us-east-1-sagemaker/AWSLogs/Macie/us-west-2/96f0d21cb4f77b3e28f6e370d0411e98/476054568469/80fa7a49-0d2b-33a0-9d33-50b18a73f1e3.jsonl.gz\n",
      "move file s3://mufg-data-sandbox-us-east-1-sagemaker/awsLogs/Macie/us-west-2/96f0d21cb4f77b3e28f6e370d0411e98/476054568469/ac5d8475-8b09-307a-9e72-bbeb8622922b.jsonl.gz to s3://mufg-data-sandbox-us-east-1-sagemaker/AWSLogs/Macie/us-west-2/96f0d21cb4f77b3e28f6e370d0411e98/476054568469/ac5d8475-8b09-307a-9e72-bbeb8622922b.jsonl.gz\n",
      "move file s3://mufg-data-sandbox-us-east-1-sagemaker/awsLogs/Macie/us-west-2/96f0d21cb4f77b3e28f6e370d0411e98/476054568469/d9eff6c1-eacc-3c6e-bfe7-ea0e7234e3be.jsonl.gz to s3://mufg-data-sandbox-us-east-1-sagemaker/AWSLogs/Macie/us-west-2/96f0d21cb4f77b3e28f6e370d0411e98/476054568469/d9eff6c1-eacc-3c6e-bfe7-ea0e7234e3be.jsonl.gz\n",
      "move file s3://mufg-data-sandbox-us-east-1-sagemaker/awsLogs/Macie/us-west-2/96f0d21cb4f77b3e28f6e370d0411e98/476054568469/f4eb6495-d377-3ca9-b5f6-3c85ef9823b7.jsonl.gz to s3://mufg-data-sandbox-us-east-1-sagemaker/AWSLogs/Macie/us-west-2/96f0d21cb4f77b3e28f6e370d0411e98/476054568469/f4eb6495-d377-3ca9-b5f6-3c85ef9823b7.jsonl.gz\n",
      "move file s3://mufg-data-sandbox-us-east-1-sagemaker/awsLogs/Macie/us-west-2/ad69687a856ed92b6d7f08a2630cf7df/476054568469/33e71af4-496e-3a6d-8f37-3f379e388bcb.jsonl.gz to s3://mufg-data-sandbox-us-east-1-sagemaker/AWSLogs/Macie/us-west-2/ad69687a856ed92b6d7f08a2630cf7df/476054568469/33e71af4-496e-3a6d-8f37-3f379e388bcb.jsonl.gz\n",
      "move file s3://mufg-data-sandbox-us-east-1-sagemaker/awsLogs/Macie/us-west-2/ad69687a856ed92b6d7f08a2630cf7df/476054568469/ef89941b-6910-3575-ad21-891514b7a327.jsonl.gz to s3://mufg-data-sandbox-us-east-1-sagemaker/AWSLogs/Macie/us-west-2/ad69687a856ed92b6d7f08a2630cf7df/476054568469/ef89941b-6910-3575-ad21-891514b7a327.jsonl.gz\n",
      "move file s3://mufg-data-sandbox-us-east-1-sagemaker/awsLogs/Macie/us-west-2/ad69687a856ed92b6d7f08a2630cf7df/476054568469/f85e8081-addf-387a-af8d-cd087c89b1fa.jsonl.gz to s3://mufg-data-sandbox-us-east-1-sagemaker/AWSLogs/Macie/us-west-2/ad69687a856ed92b6d7f08a2630cf7df/476054568469/f85e8081-addf-387a-af8d-cd087c89b1fa.jsonl.gz\n"
     ]
    },
    {
     "data": {
      "text/plain": [
       "True"
      ]
     },
     "execution_count": 54,
     "metadata": {},
     "output_type": "execute_result"
    }
   ],
   "source": [
    "src=\"s3://mufg-data-sandbox-us-east-1-sagemaker/AWSLogs/\"\n",
    "dest=\"s3://mufg-data-sandbox-us-east-1-sagemaker/awsLogs/\"\n",
    "aws_s3_mv(dest, src)"
   ]
  },
  {
   "cell_type": "code",
   "execution_count": 58,
   "id": "b8c307bb",
   "metadata": {},
   "outputs": [
    {
     "name": "stdout",
     "output_type": "stream",
     "text": [
      "move file s3://mufg-data-sandbox-us-east-1-sagemaker/sagemaker/bootstrap/scripts/add_mand_tags.sh to /home/ec2-user/SageMaker/add_mand_tags.sh\n"
     ]
    },
    {
     "data": {
      "text/plain": [
       "True"
      ]
     },
     "execution_count": 58,
     "metadata": {},
     "output_type": "execute_result"
    }
   ],
   "source": [
    "aws_s3_mv(\"s3://mufg-data-sandbox-us-east-1-sagemaker/sagemaker/bootstrap/scripts/add_mand_tags.sh\", \"/home/ec2-user/SageMaker/\")"
   ]
  },
  {
   "cell_type": "code",
   "execution_count": 59,
   "id": "83e02cc4",
   "metadata": {},
   "outputs": [
    {
     "name": "stdout",
     "output_type": "stream",
     "text": [
      "move file /home/ec2-user/SageMaker/add_mand_tags.sh to s3://mufg-data-sandbox-us-east-1-sagemaker/sagemaker/bootstrap/scripts/add_mand_tags.sh\n"
     ]
    },
    {
     "data": {
      "text/plain": [
       "True"
      ]
     },
     "execution_count": 59,
     "metadata": {},
     "output_type": "execute_result"
    }
   ],
   "source": [
    "aws_s3_mv(\"/home/ec2-user/SageMaker/add_mand_tags.sh\", \"s3://mufg-data-sandbox-us-east-1-sagemaker/sagemaker/bootstrap/scripts/\")"
   ]
  },
  {
   "cell_type": "code",
   "execution_count": 65,
   "id": "99f46497",
   "metadata": {},
   "outputs": [
    {
     "name": "stdout",
     "output_type": "stream",
     "text": [
      "move file test/add_pip_repo.sh to s3://mufg-data-sandbox-us-east-1-sagemaker/sagemaker/bootstrap/scripts/add_pip_repo.sh\n",
      "move file test/configure_git.sh to s3://mufg-data-sandbox-us-east-1-sagemaker/sagemaker/bootstrap/scripts/configure_git.sh\n",
      "move file test/bootstrap_sagemaker.sh to s3://mufg-data-sandbox-us-east-1-sagemaker/sagemaker/bootstrap/scripts/bootstrap_sagemaker.sh\n",
      "move file test/add_mand_tags.sh to s3://mufg-data-sandbox-us-east-1-sagemaker/sagemaker/bootstrap/scripts/add_mand_tags.sh\n"
     ]
    },
    {
     "data": {
      "text/plain": [
       "True"
      ]
     },
     "execution_count": 65,
     "metadata": {},
     "output_type": "execute_result"
    }
   ],
   "source": [
    "aws_s3_mv(\"test\", \"s3://mufg-data-sandbox-us-east-1-sagemaker/sagemaker/bootstrap/scripts\")"
   ]
  },
  {
   "cell_type": "code",
   "execution_count": 66,
   "id": "a7d6ee3b",
   "metadata": {},
   "outputs": [
    {
     "name": "stdout",
     "output_type": "stream",
     "text": [
      "move file s3://mufg-data-sandbox-us-east-1-sagemaker/sagemaker/bootstrap/scripts/add_mand_tags.sh to /home/ec2-user/SageMaker/test/add_mand_tags.sh\n",
      "move file s3://mufg-data-sandbox-us-east-1-sagemaker/sagemaker/bootstrap/scripts/add_pip_repo.sh to /home/ec2-user/SageMaker/test/add_pip_repo.sh\n",
      "move file s3://mufg-data-sandbox-us-east-1-sagemaker/sagemaker/bootstrap/scripts/bootstrap_sagemaker.sh to /home/ec2-user/SageMaker/test/bootstrap_sagemaker.sh\n",
      "move file s3://mufg-data-sandbox-us-east-1-sagemaker/sagemaker/bootstrap/scripts/configure_git.sh to /home/ec2-user/SageMaker/test/configure_git.sh\n"
     ]
    },
    {
     "data": {
      "text/plain": [
       "True"
      ]
     },
     "execution_count": 66,
     "metadata": {},
     "output_type": "execute_result"
    }
   ],
   "source": [
    "aws_s3_mv(\"s3://mufg-data-sandbox-us-east-1-sagemaker/sagemaker/bootstrap/scripts/\", \"/home/ec2-user/SageMaker/test\")"
   ]
  },
  {
   "cell_type": "code",
   "execution_count": 63,
   "id": "5c914b96",
   "metadata": {},
   "outputs": [
    {
     "name": "stdout",
     "output_type": "stream",
     "text": [
      "Requested s3 object doesn't exist.\n"
     ]
    },
    {
     "data": {
      "text/plain": [
       "[]"
      ]
     },
     "execution_count": 63,
     "metadata": {},
     "output_type": "execute_result"
    }
   ],
   "source": [
    "aws_s3_ls(\"s3://mufg-data-sandbox-us-east-1-sagemaker/sagemaker/bootstrap/scripts/\")"
   ]
  },
  {
   "cell_type": "code",
   "execution_count": 34,
   "id": "e44e767d",
   "metadata": {},
   "outputs": [
    {
     "data": {
      "text/plain": [
       "'file.txt'"
      ]
     },
     "execution_count": 34,
     "metadata": {},
     "output_type": "execute_result"
    }
   ],
   "source": [
    "util._get_dest_obj_name(\"test\", \"test/file.txt\")\n"
   ]
  },
  {
   "cell_type": "code",
   "execution_count": 52,
   "id": "71219271",
   "metadata": {},
   "outputs": [
    {
     "data": {
      "text/plain": [
       "'test.file'"
      ]
     },
     "execution_count": 52,
     "metadata": {},
     "output_type": "execute_result"
    }
   ],
   "source": [
    "import os\n",
    "os.path.basename(os.path.abspath(\"dest/test.file\"))\n",
    "#os.path.isdir(os.path.abspath(\"dest\"))"
   ]
  },
  {
   "cell_type": "code",
   "execution_count": 38,
   "id": "725ae7e8",
   "metadata": {},
   "outputs": [
    {
     "data": {
      "text/plain": [
       "'file.txt'"
      ]
     },
     "execution_count": 38,
     "metadata": {},
     "output_type": "execute_result"
    }
   ],
   "source": [
    "util._extract_immediate_prefix(\"test/file.txt/\")"
   ]
  },
  {
   "cell_type": "code",
   "execution_count": null,
   "id": "c34b65cd",
   "metadata": {},
   "outputs": [],
   "source": []
  }
 ],
 "metadata": {
  "kernelspec": {
   "display_name": "conda_python3",
   "language": "python",
   "name": "conda_python3"
  },
  "language_info": {
   "codemirror_mode": {
    "name": "ipython",
    "version": 3
   },
   "file_extension": ".py",
   "mimetype": "text/x-python",
   "name": "python",
   "nbconvert_exporter": "python",
   "pygments_lexer": "ipython3",
   "version": "3.6.13"
  }
 },
 "nbformat": 4,
 "nbformat_minor": 5
}
